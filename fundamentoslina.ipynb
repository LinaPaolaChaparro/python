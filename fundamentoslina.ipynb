{
  "nbformat": 4,
  "nbformat_minor": 0,
  "metadata": {
    "colab": {
      "name": "fundamentoslina.ipynb",
      "provenance": [],
      "authorship_tag": "ABX9TyOfR7mbcl6TmsCHOfagj6E3",
      "include_colab_link": true
    },
    "kernelspec": {
      "name": "python3",
      "display_name": "Python 3"
    },
    "language_info": {
      "name": "python"
    }
  },
  "cells": [
    {
      "cell_type": "markdown",
      "metadata": {
        "id": "view-in-github",
        "colab_type": "text"
      },
      "source": [
        "<a href=\"https://colab.research.google.com/github/LinaPaolaChaparro/python/blob/main/fundamentoslina.ipynb\" target=\"_parent\"><img src=\"https://colab.research.google.com/assets/colab-badge.svg\" alt=\"Open In Colab\"/></a>"
      ]
    },
    {
      "cell_type": "markdown",
      "source": [
        "hola soy lina"
      ],
      "metadata": {
        "id": "cK0w9rCHp6JB"
      }
    },
    {
      "cell_type": "code",
      "execution_count": null,
      "metadata": {
        "colab": {
          "base_uri": "https://localhost:8080/"
        },
        "id": "vyiRkiZop1Ay",
        "outputId": "9bd2ed4d-d49f-4eb0-d683-9d25e4c1c5a0"
      },
      "outputs": [
        {
          "output_type": "stream",
          "name": "stdout",
          "text": [
            " el resultado es: -3\n"
          ]
        }
      ],
      "source": [
        "x = 17\n",
        "y = 20\n",
        "l = (x - y )\n",
        "print(\" el resultado es:\" ,l)\n",
        "\n"
      ]
    },
    {
      "cell_type": "markdown",
      "source": [
        "Comentarios:"
      ],
      "metadata": {
        "id": "clRyRlazrm91"
      }
    },
    {
      "cell_type": "code",
      "source": [
        "#comentarios con una sola linea de codigo \n",
        "\"\"\"Esto es un comentario \n",
        "de varias lineas \n",
        "de codigo para que \n",
        "no se nos olvide\n",
        "que estamos haciendo\"\"\""
      ],
      "metadata": {
        "colab": {
          "base_uri": "https://localhost:8080/",
          "height": 35
        },
        "id": "DdrKVSmXroqP",
        "outputId": "a53677c5-a765-4c8e-d581-4b654d22abd0"
      },
      "execution_count": null,
      "outputs": [
        {
          "output_type": "execute_result",
          "data": {
            "text/plain": [
              "'Esto es un comentario \\nde varias lineas \\nde codigo para que \\nno se nos olvide\\nque estamos haciendo'"
            ],
            "application/vnd.google.colaboratory.intrinsic+json": {
              "type": "string"
            }
          },
          "metadata": {},
          "execution_count": 3
        }
      ]
    },
    {
      "cell_type": "markdown",
      "source": [
        "palabra reservada print()"
      ],
      "metadata": {
        "id": "_mPYZl1ctMBl"
      }
    },
    {
      "cell_type": "code",
      "source": [
        "#Imprimir en pantalla \n",
        "print(\"Este es nuestro primer programa en\")\n",
        "print('**************PHYTON*************')"
      ],
      "metadata": {
        "colab": {
          "base_uri": "https://localhost:8080/"
        },
        "id": "-FZUBu4vtM1d",
        "outputId": "bfe54367-827e-40fc-aa71-b5d1e1e68c93"
      },
      "execution_count": null,
      "outputs": [
        {
          "output_type": "stream",
          "name": "stdout",
          "text": [
            "Este es nuestro primer programa en\n",
            "**************PHYTON*************\n"
          ]
        }
      ]
    },
    {
      "cell_type": "markdown",
      "source": [
        "Tipos de Datos "
      ],
      "metadata": {
        "id": "rKSvDTxYv9-j"
      }
    },
    {
      "cell_type": "code",
      "source": [
        "x = 15  #Entero   = int \n",
        "y = 42.5 #Flotante = float\n",
        "b = \"El resultado es: \" #string = str\n",
        "z = (x + y )\n",
        "print(b,z)\n",
        "print(\"****************Palabra reservada type()********************\")\n",
        "print(\"Tipo de dato x\" , x,   \":\", type(x))\n",
        "print(\"Tipo de dato y\" , y ,  \":\", type(y))\n",
        "print(\"Tipo de dato b\" , b ,  \":\", type(b))\n",
        "print(\"Tipo de dato z\" , z , \":\",  type(z))\n",
        "\n",
        "print(\"*************** Mas facilito*********************\")\n",
        "print(f\"Tipo de dato x {x} : {type(x)}\")\n",
        "print(f\"Tipo de dato x {y} : {type(y)}\")\n",
        "print(f\"Tipo de dato x {b} : {type(b)}\")\n",
        "print(f\"Tipo de dato x {z} : {type(z)}\")\n",
        "\n",
        "#Tipo de datos Cadena de caracteres - string \n",
        "\n",
        "nom_aprendiz = \" Lina \"\n",
        "ape_aprendiz = \"Chaparro\"\n",
        "corre_electronico = \"lina.chaparro10@misena.edu.co\"\n",
        "print(f\"El aprendiz se llama {nom_aprendiz}{ape_aprendiz}y su email es{corre_electronico}\")\n",
        "\n",
        "#Tipo de datos Booleanos\n",
        "estado =True\n",
        "estado_falso = False\n",
        "print(f\"Tipo de dato estado {estado} : {type(estado)}\")\n",
        "print(f\"Tipo de dato estado_falso{estado_falso} : {type(estado_falso)}\")\n",
        "\n",
        "\n",
        "\n",
        "\n"
      ],
      "metadata": {
        "id": "RMo0oK4swFWb",
        "colab": {
          "base_uri": "https://localhost:8080/"
        },
        "outputId": "9ba6d82a-0abf-459d-8e2e-ff7324eac8f2"
      },
      "execution_count": null,
      "outputs": [
        {
          "output_type": "stream",
          "name": "stdout",
          "text": [
            "El resultado es:  57.5\n",
            "****************Palabra reservada type()********************\n",
            "Tipo de dato x 15 : <class 'int'>\n",
            "Tipo de dato y 42.5 : <class 'float'>\n",
            "Tipo de dato b El resultado es:  : <class 'str'>\n",
            "Tipo de dato z 57.5 : <class 'float'>\n",
            "*************** Mas facilito*********************\n",
            "Tipo de dato x 15 : <class 'int'>\n",
            "Tipo de dato x 42.5 : <class 'float'>\n",
            "Tipo de dato x El resultado es:  : <class 'str'>\n",
            "Tipo de dato x 57.5 : <class 'float'>\n",
            "El aprendiz se llama  Lina Chaparroy su email eslina.chaparro10@misena.edu.co\n",
            "Tipo de dato estado True : <class 'bool'>\n",
            "Tipo de dato estado_falsoFalse : <class 'bool'>\n"
          ]
        }
      ]
    },
    {
      "cell_type": "markdown",
      "source": [
        "sueldoOperarioBasico\n",
        "\n",
        "\n",
        "\n"
      ],
      "metadata": {
        "id": "EGZcxCOnJu9O"
      }
    },
    {
      "cell_type": "code",
      "source": [
        "#P"
      ],
      "metadata": {
        "id": "2CTMdE1QJ_Sm"
      },
      "execution_count": null,
      "outputs": []
    }
  ]
}